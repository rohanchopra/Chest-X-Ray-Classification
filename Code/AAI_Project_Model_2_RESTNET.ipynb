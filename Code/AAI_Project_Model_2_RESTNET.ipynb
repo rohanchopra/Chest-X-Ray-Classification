{
  "nbformat": 4,
  "nbformat_minor": 0,
  "metadata": {
    "colab": {
      "provenance": []
    },
    "kernelspec": {
      "name": "python3",
      "display_name": "Python 3"
    },
    "language_info": {
      "name": "python"
    },
    "accelerator": "GPU",
    "gpuClass": "standard"
  },
  "cells": [
    {
      "cell_type": "code",
      "execution_count": null,
      "metadata": {
        "id": "tGI2cCDjtwPh"
      },
      "outputs": [],
      "source": [
        "import torch\n",
        "import torchvision.transforms as transforms\n",
        "import torchvision.datasets as datasets\n",
        "import torch.utils.data as td\n",
        "import numpy as np\n",
        "import matplotlib.pyplot as plt\n",
        "import torch.nn as nn\n",
        "import torch.nn.functional as F\n",
        "from matplotlib import image\n",
        "from matplotlib import pyplot\n",
        "import time\n",
        "\n",
        "import torchvision\n",
        "from torchvision.transforms.functional import normalize\n",
        "from torchvision.transforms.transforms import ToTensor\n",
        "from torchvision.transforms.transforms import Resize\n",
        "from torchvision.transforms.transforms import RandomHorizontalFlip\n",
        "from torchvision.transforms.transforms import Normalize\n",
        "\n",
        "\n",
        "PATH_TO_DATASET=\"/content/drive/MyDrive/chest_xray/train\""
      ]
    },
    {
      "cell_type": "code",
      "source": [
        "def load_data(path, test_split, val_split, batch_size, input_size):\n",
        "    \n",
        "    normalize = transforms.Normalize(\n",
        "        mean=[0.4914, 0.4822, 0.4465],\n",
        "        std=[0.2023, 0.1994, 0.2010],\n",
        "    )\n",
        "    ######## Write your code here ########\n",
        "    transform_dict={\"src\":transforms.Compose([\n",
        "      transforms.Resize((224,224)),\n",
        "            transforms.ToTensor(),\n",
        "            normalize])}\n",
        "      \n",
        "    data=torchvision.datasets.ImageFolder(root=PATH_TO_DATASET,transform=transform_dict[\"src\"])\n",
        "#dataset = TensorDataset(x_tensor, y_tensor)\n",
        "#val_size = int(len(dataset)*0.2)\n",
        "#train_size = len(dataset)- int(len(dataset)*0.2)\n",
        "#train_dataset, val_dataset = random_split(dataset, [train_size, val_size])\n",
        "    train_split=1-test_split-val_split\n",
        "    train_size=int(len(data)*train_split)\n",
        "    val_size=int(len(data)*val_split)\n",
        "    test_size=int(len(data)*test_split)\n",
        "    print(\"The train size, val size and test size is resp \",train_size,\" \",val_size,\" \",test_size,\" \",len(data))\n",
        "    train,val,test=torch.utils.data.random_split(data,[train_size,val_size,test_size])\n",
        "    data_loader_train = torch.utils.data.DataLoader(train, batch_size=batch_size,\n",
        "                                          shuffle=True, num_workers=0, drop_last=False)\n",
        "    data_loader_test = torch.utils.data.DataLoader(test, batch_size=batch_size,\n",
        "                                          shuffle=True, num_workers=0, drop_last=False)\n",
        "    data_loader_val = torch.utils.data.DataLoader(val, batch_size=batch_size,\n",
        "                                          shuffle=True, num_workers=0, drop_last=False)\n",
        "    return data_loader_train, data_loader_test, data_loader_val\n"
      ],
      "metadata": {
        "id": "8S13iax8z0gr"
      },
      "execution_count": null,
      "outputs": []
    },
    {
      "cell_type": "code",
      "source": [
        "data_loader_train, data_loader_test, data_loader_val=load_data(PATH_TO_DATASET,0.25,0.25,32,40)"
      ],
      "metadata": {
        "colab": {
          "base_uri": "https://localhost:8080/"
        },
        "id": "_tvQuUtaz7oq",
        "outputId": "4a41eafa-e7c8-4b5e-b871-76c7f953bdb9"
      },
      "execution_count": null,
      "outputs": [
        {
          "output_type": "stream",
          "name": "stdout",
          "text": [
            "The train size, val size and test size is resp  2928   1464   1464   5856\n"
          ]
        }
      ]
    },
    {
      "cell_type": "code",
      "source": [
        "class ResidualBlock(nn.Module):\n",
        "    def __init__(self, in_channels, out_channels, stride = 1, downsample = None):\n",
        "        super(ResidualBlock, self).__init__()\n",
        "        self.conv1 = nn.Sequential(\n",
        "                        nn.Conv2d(in_channels, out_channels, kernel_size = 3, stride = stride, padding = 1),\n",
        "                        nn.BatchNorm2d(out_channels),\n",
        "                        nn.ReLU())\n",
        "        self.conv2 = nn.Sequential(\n",
        "                        nn.Conv2d(out_channels, out_channels, kernel_size = 3, stride = 1, padding = 1),\n",
        "                        nn.BatchNorm2d(out_channels))\n",
        "        self.downsample = downsample\n",
        "        self.relu = nn.ReLU()\n",
        "        self.out_channels = out_channels\n",
        "        \n",
        "    def forward(self, x):\n",
        "        residual = x\n",
        "        out = self.conv1(x)\n",
        "        out = self.conv2(out)\n",
        "        if self.downsample:\n",
        "            residual = self.downsample(x)\n",
        "        out += residual\n",
        "        out = self.relu(out)\n",
        "        return out"
      ],
      "metadata": {
        "id": "yQ5yUMZL11CS"
      },
      "execution_count": null,
      "outputs": []
    },
    {
      "cell_type": "code",
      "source": [
        "class ResNet(nn.Module):\n",
        "    def __init__(self, block, layers, num_classes = 10):\n",
        "        super(ResNet, self).__init__()\n",
        "        self.inplanes = 64\n",
        "        self.conv1 = nn.Sequential(\n",
        "                        nn.Conv2d(3, 64, kernel_size = 7, stride = 2, padding = 3),\n",
        "                        nn.BatchNorm2d(64),\n",
        "                        nn.ReLU())\n",
        "        self.maxpool = nn.MaxPool2d(kernel_size = 3, stride = 2, padding = 1)\n",
        "        self.layer0 = self._make_layer(block, 64, layers[0], stride = 1)\n",
        "        self.layer1 = self._make_layer(block, 128, layers[1], stride = 2)\n",
        "        self.layer2 = self._make_layer(block, 256, layers[2], stride = 2)\n",
        "        self.layer3 = self._make_layer(block, 512, layers[3], stride = 2)\n",
        "        self.avgpool = nn.AvgPool2d(7, stride=1)\n",
        "        self.fc = nn.Linear(512, num_classes)\n",
        "        \n",
        "    def _make_layer(self, block, planes, blocks, stride=1):\n",
        "        downsample = None\n",
        "        if stride != 1 or self.inplanes != planes:\n",
        "            \n",
        "            downsample = nn.Sequential(\n",
        "                nn.Conv2d(self.inplanes, planes, kernel_size=1, stride=stride),\n",
        "                nn.BatchNorm2d(planes),\n",
        "            )\n",
        "        layers = []\n",
        "        layers.append(block(self.inplanes, planes, stride, downsample))\n",
        "        self.inplanes = planes\n",
        "        for i in range(1, blocks):\n",
        "            layers.append(block(self.inplanes, planes))\n",
        "\n",
        "        return nn.Sequential(*layers)\n",
        "    \n",
        "    \n",
        "    def forward(self, x):\n",
        "        x = self.conv1(x)\n",
        "        x = self.maxpool(x)\n",
        "        x = self.layer0(x)\n",
        "        x = self.layer1(x)\n",
        "        x = self.layer2(x)\n",
        "        x = self.layer3(x)\n",
        "\n",
        "        x = self.avgpool(x)\n",
        "        x = x.view(x.size(0), -1)\n",
        "        x = self.fc(x)\n",
        "\n",
        "        return x"
      ],
      "metadata": {
        "id": "ne4hTCm62CW_"
      },
      "execution_count": null,
      "outputs": []
    },
    {
      "cell_type": "code",
      "source": [
        "# Device configuration\n",
        "device = torch.device('cuda' if torch.cuda.is_available() else 'cpu')\n",
        "num_classes = 3\n",
        "num_epochs = 20\n",
        "batch_size = 16\n",
        "learning_rate = 0.01\n",
        "\n",
        "model = ResNet(ResidualBlock, [3, 4, 6, 3]).to(device)\n",
        "\n",
        "# Loss and optimizer\n",
        "criterion = nn.CrossEntropyLoss()\n",
        "optimizer = torch.optim.SGD(model.parameters(), lr=learning_rate, weight_decay = 0.001, momentum = 0.9)  \n",
        "\n",
        "# Train the model\n",
        "total_step = len(data_loader_train)"
      ],
      "metadata": {
        "id": "AvmNrWLb2H7Z"
      },
      "execution_count": null,
      "outputs": []
    },
    {
      "cell_type": "code",
      "source": [
        "import gc\n",
        "total_step = len(data_loader_train)\n",
        "\n",
        "for epoch in range(num_epochs):\n",
        "    for i, (images, labels) in enumerate(data_loader_train):  \n",
        "        # Move tensors to the configured device\n",
        "        images = images.to(device)\n",
        "        labels = labels.to(device)\n",
        "        \n",
        "        # Forward pass\n",
        "        outputs = model(images)\n",
        "        loss = criterion(outputs, labels)\n",
        "        \n",
        "        # Backward and optimize\n",
        "        optimizer.zero_grad()\n",
        "        loss.backward()\n",
        "        optimizer.step()\n",
        "        del images, labels, outputs\n",
        "        torch.cuda.empty_cache()\n",
        "        gc.collect()\n",
        "\n",
        "    print ('Epoch [{}/{}], Loss: {:.4f}' \n",
        "                   .format(epoch+1, num_epochs, loss.item()))\n",
        "            \n",
        "    # Validation\n",
        "    with torch.no_grad():\n",
        "        correct = 0\n",
        "        total = 0\n",
        "        for images, labels in data_loader_val:\n",
        "            images = images.to(device)\n",
        "            labels = labels.to(device)\n",
        "            outputs = model(images)\n",
        "            _, predicted = torch.max(outputs.data, 1)\n",
        "            total += labels.size(0)\n",
        "            correct += (predicted == labels).sum().item()\n",
        "            del images, labels, outputs\n",
        "    \n",
        "        print('Accuracy of the network on the {} validation images: {} %'.format(5000, 100 * correct / total)) "
      ],
      "metadata": {
        "colab": {
          "base_uri": "https://localhost:8080/"
        },
        "id": "JeSRx4Bu2aq_",
        "outputId": "8c1cf47c-5adb-479e-d0f1-599a1bb412bf"
      },
      "execution_count": null,
      "outputs": [
        {
          "output_type": "stream",
          "name": "stdout",
          "text": [
            "Epoch [1/20], Loss: 0.5535\n",
            "Accuracy of the network on the 5000 validation images: 65.1639344262295 %\n",
            "Epoch [2/20], Loss: 1.2063\n",
            "Accuracy of the network on the 5000 validation images: 73.90710382513662 %\n",
            "Epoch [3/20], Loss: 0.9346\n",
            "Accuracy of the network on the 5000 validation images: 74.4535519125683 %\n",
            "Epoch [4/20], Loss: 0.8267\n",
            "Accuracy of the network on the 5000 validation images: 77.8688524590164 %\n",
            "Epoch [5/20], Loss: 0.3682\n",
            "Accuracy of the network on the 5000 validation images: 79.57650273224044 %\n",
            "Epoch [6/20], Loss: 1.2828\n",
            "Accuracy of the network on the 5000 validation images: 70.69672131147541 %\n",
            "Epoch [7/20], Loss: 0.4660\n",
            "Accuracy of the network on the 5000 validation images: 76.77595628415301 %\n",
            "Epoch [8/20], Loss: 0.3360\n",
            "Accuracy of the network on the 5000 validation images: 77.3224043715847 %\n",
            "Epoch [9/20], Loss: 0.3886\n",
            "Accuracy of the network on the 5000 validation images: 76.09289617486338 %\n",
            "Epoch [10/20], Loss: 0.3180\n",
            "Accuracy of the network on the 5000 validation images: 78.27868852459017 %\n",
            "Epoch [11/20], Loss: 0.5049\n",
            "Accuracy of the network on the 5000 validation images: 78.62021857923497 %\n",
            "Epoch [12/20], Loss: 0.5435\n",
            "Accuracy of the network on the 5000 validation images: 78.62021857923497 %\n",
            "Epoch [13/20], Loss: 0.3448\n",
            "Accuracy of the network on the 5000 validation images: 71.85792349726776 %\n",
            "Epoch [14/20], Loss: 0.2277\n",
            "Accuracy of the network on the 5000 validation images: 79.78142076502732 %\n",
            "Epoch [15/20], Loss: 0.1564\n",
            "Accuracy of the network on the 5000 validation images: 79.84972677595628 %\n",
            "Epoch [16/20], Loss: 0.6413\n",
            "Accuracy of the network on the 5000 validation images: 77.11748633879782 %\n",
            "Epoch [17/20], Loss: 0.1685\n",
            "Accuracy of the network on the 5000 validation images: 80.32786885245902 %\n",
            "Epoch [18/20], Loss: 0.2279\n",
            "Accuracy of the network on the 5000 validation images: 77.6639344262295 %\n",
            "Epoch [19/20], Loss: 0.3568\n",
            "Accuracy of the network on the 5000 validation images: 79.03005464480874 %\n",
            "Epoch [20/20], Loss: 0.3054\n",
            "Accuracy of the network on the 5000 validation images: 79.43989071038251 %\n"
          ]
        }
      ]
    },
    {
      "cell_type": "code",
      "source": [],
      "metadata": {
        "id": "QRJI8aI0JDIr"
      },
      "execution_count": null,
      "outputs": []
    },
    {
      "cell_type": "code",
      "source": [
        "with torch.no_grad():\n",
        "    correct = 0\n",
        "    total = 0\n",
        "    for images, labels in data_loader_test:\n",
        "        images = images.to(device)\n",
        "        labels = labels.to(device)\n",
        "        outputs = model(images)\n",
        "        _, predicted = torch.max(outputs.data, 1)\n",
        "        total += labels.size(0)\n",
        "        correct += (predicted == labels).sum().item()\n",
        "        del images, labels, outputs\n",
        "\n",
        "    print('Accuracy of the network on the {} test images: {} %'.format(10000, 100 * correct / total))   "
      ],
      "metadata": {
        "colab": {
          "base_uri": "https://localhost:8080/"
        },
        "id": "qCAkQbqRuADZ",
        "outputId": "652209b6-1897-4111-96c4-bffe33c1bf88"
      },
      "execution_count": null,
      "outputs": [
        {
          "output_type": "stream",
          "name": "stdout",
          "text": [
            "Accuracy of the network on the 10000 test images: 76.36612021857924 %\n"
          ]
        }
      ]
    }
  ]
}